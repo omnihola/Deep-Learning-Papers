{
  "nbformat": 4,
  "nbformat_minor": 0,
  "metadata": {
    "colab": {
      "name": "Basic CNN.ipynb",
      "provenance": [],
      "authorship_tag": "ABX9TyMMfLahzOJYUw6+1+xJ+wAZ",
      "include_colab_link": true
    },
    "kernelspec": {
      "name": "python3",
      "display_name": "Python 3"
    },
    "accelerator": "GPU",
    "widgets": {
      "application/vnd.jupyter.widget-state+json": {
        "e3ae4dc3230d4623b662e4a96506e4c2": {
          "model_module": "@jupyter-widgets/controls",
          "model_name": "HBoxModel",
          "state": {
            "_view_name": "HBoxView",
            "_dom_classes": [],
            "_model_name": "HBoxModel",
            "_view_module": "@jupyter-widgets/controls",
            "_model_module_version": "1.5.0",
            "_view_count": null,
            "_view_module_version": "1.5.0",
            "box_style": "",
            "layout": "IPY_MODEL_3f5046add699486abf32c7fa9c8965d1",
            "_model_module": "@jupyter-widgets/controls",
            "children": [
              "IPY_MODEL_22923aab1340485cbe49365c10a9182f",
              "IPY_MODEL_6a49a355c5954f968aea045fcb047ef0"
            ]
          }
        },
        "3f5046add699486abf32c7fa9c8965d1": {
          "model_module": "@jupyter-widgets/base",
          "model_name": "LayoutModel",
          "state": {
            "_view_name": "LayoutView",
            "grid_template_rows": null,
            "right": null,
            "justify_content": null,
            "_view_module": "@jupyter-widgets/base",
            "overflow": null,
            "_model_module_version": "1.2.0",
            "_view_count": null,
            "flex_flow": null,
            "width": null,
            "min_width": null,
            "border": null,
            "align_items": null,
            "bottom": null,
            "_model_module": "@jupyter-widgets/base",
            "top": null,
            "grid_column": null,
            "overflow_y": null,
            "overflow_x": null,
            "grid_auto_flow": null,
            "grid_area": null,
            "grid_template_columns": null,
            "flex": null,
            "_model_name": "LayoutModel",
            "justify_items": null,
            "grid_row": null,
            "max_height": null,
            "align_content": null,
            "visibility": null,
            "align_self": null,
            "height": null,
            "min_height": null,
            "padding": null,
            "grid_auto_rows": null,
            "grid_gap": null,
            "max_width": null,
            "order": null,
            "_view_module_version": "1.2.0",
            "grid_template_areas": null,
            "object_position": null,
            "object_fit": null,
            "grid_auto_columns": null,
            "margin": null,
            "display": null,
            "left": null
          }
        },
        "22923aab1340485cbe49365c10a9182f": {
          "model_module": "@jupyter-widgets/controls",
          "model_name": "IntProgressModel",
          "state": {
            "_view_name": "ProgressView",
            "style": "IPY_MODEL_b217490983a8490289e032dff268ec59",
            "_dom_classes": [],
            "description": "",
            "_model_name": "IntProgressModel",
            "bar_style": "info",
            "max": 1,
            "_view_module": "@jupyter-widgets/controls",
            "_model_module_version": "1.5.0",
            "value": 1,
            "_view_count": null,
            "_view_module_version": "1.5.0",
            "orientation": "horizontal",
            "min": 0,
            "description_tooltip": null,
            "_model_module": "@jupyter-widgets/controls",
            "layout": "IPY_MODEL_8210c5b4c698452f91d8d7d92ebc8cf8"
          }
        },
        "6a49a355c5954f968aea045fcb047ef0": {
          "model_module": "@jupyter-widgets/controls",
          "model_name": "HTMLModel",
          "state": {
            "_view_name": "HTMLView",
            "style": "IPY_MODEL_78c7e5c24af74bf0a818e2481dab05c8",
            "_dom_classes": [],
            "description": "",
            "_model_name": "HTMLModel",
            "placeholder": "​",
            "_view_module": "@jupyter-widgets/controls",
            "_model_module_version": "1.5.0",
            "value": " 9920512/? [00:20&lt;00:00, 1095715.67it/s]",
            "_view_count": null,
            "_view_module_version": "1.5.0",
            "description_tooltip": null,
            "_model_module": "@jupyter-widgets/controls",
            "layout": "IPY_MODEL_cd43ef64e8f84ce2a5020ebc2f0e4652"
          }
        },
        "b217490983a8490289e032dff268ec59": {
          "model_module": "@jupyter-widgets/controls",
          "model_name": "ProgressStyleModel",
          "state": {
            "_view_name": "StyleView",
            "_model_name": "ProgressStyleModel",
            "description_width": "initial",
            "_view_module": "@jupyter-widgets/base",
            "_model_module_version": "1.5.0",
            "_view_count": null,
            "_view_module_version": "1.2.0",
            "bar_color": null,
            "_model_module": "@jupyter-widgets/controls"
          }
        },
        "8210c5b4c698452f91d8d7d92ebc8cf8": {
          "model_module": "@jupyter-widgets/base",
          "model_name": "LayoutModel",
          "state": {
            "_view_name": "LayoutView",
            "grid_template_rows": null,
            "right": null,
            "justify_content": null,
            "_view_module": "@jupyter-widgets/base",
            "overflow": null,
            "_model_module_version": "1.2.0",
            "_view_count": null,
            "flex_flow": null,
            "width": null,
            "min_width": null,
            "border": null,
            "align_items": null,
            "bottom": null,
            "_model_module": "@jupyter-widgets/base",
            "top": null,
            "grid_column": null,
            "overflow_y": null,
            "overflow_x": null,
            "grid_auto_flow": null,
            "grid_area": null,
            "grid_template_columns": null,
            "flex": null,
            "_model_name": "LayoutModel",
            "justify_items": null,
            "grid_row": null,
            "max_height": null,
            "align_content": null,
            "visibility": null,
            "align_self": null,
            "height": null,
            "min_height": null,
            "padding": null,
            "grid_auto_rows": null,
            "grid_gap": null,
            "max_width": null,
            "order": null,
            "_view_module_version": "1.2.0",
            "grid_template_areas": null,
            "object_position": null,
            "object_fit": null,
            "grid_auto_columns": null,
            "margin": null,
            "display": null,
            "left": null
          }
        },
        "78c7e5c24af74bf0a818e2481dab05c8": {
          "model_module": "@jupyter-widgets/controls",
          "model_name": "DescriptionStyleModel",
          "state": {
            "_view_name": "StyleView",
            "_model_name": "DescriptionStyleModel",
            "description_width": "",
            "_view_module": "@jupyter-widgets/base",
            "_model_module_version": "1.5.0",
            "_view_count": null,
            "_view_module_version": "1.2.0",
            "_model_module": "@jupyter-widgets/controls"
          }
        },
        "cd43ef64e8f84ce2a5020ebc2f0e4652": {
          "model_module": "@jupyter-widgets/base",
          "model_name": "LayoutModel",
          "state": {
            "_view_name": "LayoutView",
            "grid_template_rows": null,
            "right": null,
            "justify_content": null,
            "_view_module": "@jupyter-widgets/base",
            "overflow": null,
            "_model_module_version": "1.2.0",
            "_view_count": null,
            "flex_flow": null,
            "width": null,
            "min_width": null,
            "border": null,
            "align_items": null,
            "bottom": null,
            "_model_module": "@jupyter-widgets/base",
            "top": null,
            "grid_column": null,
            "overflow_y": null,
            "overflow_x": null,
            "grid_auto_flow": null,
            "grid_area": null,
            "grid_template_columns": null,
            "flex": null,
            "_model_name": "LayoutModel",
            "justify_items": null,
            "grid_row": null,
            "max_height": null,
            "align_content": null,
            "visibility": null,
            "align_self": null,
            "height": null,
            "min_height": null,
            "padding": null,
            "grid_auto_rows": null,
            "grid_gap": null,
            "max_width": null,
            "order": null,
            "_view_module_version": "1.2.0",
            "grid_template_areas": null,
            "object_position": null,
            "object_fit": null,
            "grid_auto_columns": null,
            "margin": null,
            "display": null,
            "left": null
          }
        },
        "ea92b5d02e504e8ab8ba8c2a866e10f1": {
          "model_module": "@jupyter-widgets/controls",
          "model_name": "HBoxModel",
          "state": {
            "_view_name": "HBoxView",
            "_dom_classes": [],
            "_model_name": "HBoxModel",
            "_view_module": "@jupyter-widgets/controls",
            "_model_module_version": "1.5.0",
            "_view_count": null,
            "_view_module_version": "1.5.0",
            "box_style": "",
            "layout": "IPY_MODEL_90cef04d6c1f4964aa1eb4f3d3dae197",
            "_model_module": "@jupyter-widgets/controls",
            "children": [
              "IPY_MODEL_4ddeff3093c24f1182a44af92a8f9fb3",
              "IPY_MODEL_d02ae8e1df8043cfb5b76040f74b4f4e"
            ]
          }
        },
        "90cef04d6c1f4964aa1eb4f3d3dae197": {
          "model_module": "@jupyter-widgets/base",
          "model_name": "LayoutModel",
          "state": {
            "_view_name": "LayoutView",
            "grid_template_rows": null,
            "right": null,
            "justify_content": null,
            "_view_module": "@jupyter-widgets/base",
            "overflow": null,
            "_model_module_version": "1.2.0",
            "_view_count": null,
            "flex_flow": null,
            "width": null,
            "min_width": null,
            "border": null,
            "align_items": null,
            "bottom": null,
            "_model_module": "@jupyter-widgets/base",
            "top": null,
            "grid_column": null,
            "overflow_y": null,
            "overflow_x": null,
            "grid_auto_flow": null,
            "grid_area": null,
            "grid_template_columns": null,
            "flex": null,
            "_model_name": "LayoutModel",
            "justify_items": null,
            "grid_row": null,
            "max_height": null,
            "align_content": null,
            "visibility": null,
            "align_self": null,
            "height": null,
            "min_height": null,
            "padding": null,
            "grid_auto_rows": null,
            "grid_gap": null,
            "max_width": null,
            "order": null,
            "_view_module_version": "1.2.0",
            "grid_template_areas": null,
            "object_position": null,
            "object_fit": null,
            "grid_auto_columns": null,
            "margin": null,
            "display": null,
            "left": null
          }
        },
        "4ddeff3093c24f1182a44af92a8f9fb3": {
          "model_module": "@jupyter-widgets/controls",
          "model_name": "IntProgressModel",
          "state": {
            "_view_name": "ProgressView",
            "style": "IPY_MODEL_1b03ad5864d84b95aacb3b72d79d0902",
            "_dom_classes": [],
            "description": "",
            "_model_name": "IntProgressModel",
            "bar_style": "success",
            "max": 1,
            "_view_module": "@jupyter-widgets/controls",
            "_model_module_version": "1.5.0",
            "value": 1,
            "_view_count": null,
            "_view_module_version": "1.5.0",
            "orientation": "horizontal",
            "min": 0,
            "description_tooltip": null,
            "_model_module": "@jupyter-widgets/controls",
            "layout": "IPY_MODEL_05389f66c11a498eb4c38c2a769b7d1f"
          }
        },
        "d02ae8e1df8043cfb5b76040f74b4f4e": {
          "model_module": "@jupyter-widgets/controls",
          "model_name": "HTMLModel",
          "state": {
            "_view_name": "HTMLView",
            "style": "IPY_MODEL_992a17657d534dc48ebb7efab833206c",
            "_dom_classes": [],
            "description": "",
            "_model_name": "HTMLModel",
            "placeholder": "​",
            "_view_module": "@jupyter-widgets/controls",
            "_model_module_version": "1.5.0",
            "value": " 32768/? [00:00&lt;00:00, 45096.06it/s]",
            "_view_count": null,
            "_view_module_version": "1.5.0",
            "description_tooltip": null,
            "_model_module": "@jupyter-widgets/controls",
            "layout": "IPY_MODEL_04051a777e354bd7a2094fab510f5fac"
          }
        },
        "1b03ad5864d84b95aacb3b72d79d0902": {
          "model_module": "@jupyter-widgets/controls",
          "model_name": "ProgressStyleModel",
          "state": {
            "_view_name": "StyleView",
            "_model_name": "ProgressStyleModel",
            "description_width": "initial",
            "_view_module": "@jupyter-widgets/base",
            "_model_module_version": "1.5.0",
            "_view_count": null,
            "_view_module_version": "1.2.0",
            "bar_color": null,
            "_model_module": "@jupyter-widgets/controls"
          }
        },
        "05389f66c11a498eb4c38c2a769b7d1f": {
          "model_module": "@jupyter-widgets/base",
          "model_name": "LayoutModel",
          "state": {
            "_view_name": "LayoutView",
            "grid_template_rows": null,
            "right": null,
            "justify_content": null,
            "_view_module": "@jupyter-widgets/base",
            "overflow": null,
            "_model_module_version": "1.2.0",
            "_view_count": null,
            "flex_flow": null,
            "width": null,
            "min_width": null,
            "border": null,
            "align_items": null,
            "bottom": null,
            "_model_module": "@jupyter-widgets/base",
            "top": null,
            "grid_column": null,
            "overflow_y": null,
            "overflow_x": null,
            "grid_auto_flow": null,
            "grid_area": null,
            "grid_template_columns": null,
            "flex": null,
            "_model_name": "LayoutModel",
            "justify_items": null,
            "grid_row": null,
            "max_height": null,
            "align_content": null,
            "visibility": null,
            "align_self": null,
            "height": null,
            "min_height": null,
            "padding": null,
            "grid_auto_rows": null,
            "grid_gap": null,
            "max_width": null,
            "order": null,
            "_view_module_version": "1.2.0",
            "grid_template_areas": null,
            "object_position": null,
            "object_fit": null,
            "grid_auto_columns": null,
            "margin": null,
            "display": null,
            "left": null
          }
        },
        "992a17657d534dc48ebb7efab833206c": {
          "model_module": "@jupyter-widgets/controls",
          "model_name": "DescriptionStyleModel",
          "state": {
            "_view_name": "StyleView",
            "_model_name": "DescriptionStyleModel",
            "description_width": "",
            "_view_module": "@jupyter-widgets/base",
            "_model_module_version": "1.5.0",
            "_view_count": null,
            "_view_module_version": "1.2.0",
            "_model_module": "@jupyter-widgets/controls"
          }
        },
        "04051a777e354bd7a2094fab510f5fac": {
          "model_module": "@jupyter-widgets/base",
          "model_name": "LayoutModel",
          "state": {
            "_view_name": "LayoutView",
            "grid_template_rows": null,
            "right": null,
            "justify_content": null,
            "_view_module": "@jupyter-widgets/base",
            "overflow": null,
            "_model_module_version": "1.2.0",
            "_view_count": null,
            "flex_flow": null,
            "width": null,
            "min_width": null,
            "border": null,
            "align_items": null,
            "bottom": null,
            "_model_module": "@jupyter-widgets/base",
            "top": null,
            "grid_column": null,
            "overflow_y": null,
            "overflow_x": null,
            "grid_auto_flow": null,
            "grid_area": null,
            "grid_template_columns": null,
            "flex": null,
            "_model_name": "LayoutModel",
            "justify_items": null,
            "grid_row": null,
            "max_height": null,
            "align_content": null,
            "visibility": null,
            "align_self": null,
            "height": null,
            "min_height": null,
            "padding": null,
            "grid_auto_rows": null,
            "grid_gap": null,
            "max_width": null,
            "order": null,
            "_view_module_version": "1.2.0",
            "grid_template_areas": null,
            "object_position": null,
            "object_fit": null,
            "grid_auto_columns": null,
            "margin": null,
            "display": null,
            "left": null
          }
        },
        "c041a173b297472dbdef718833db9f2d": {
          "model_module": "@jupyter-widgets/controls",
          "model_name": "HBoxModel",
          "state": {
            "_view_name": "HBoxView",
            "_dom_classes": [],
            "_model_name": "HBoxModel",
            "_view_module": "@jupyter-widgets/controls",
            "_model_module_version": "1.5.0",
            "_view_count": null,
            "_view_module_version": "1.5.0",
            "box_style": "",
            "layout": "IPY_MODEL_3c28819930ed4a65a69a809db6c216ef",
            "_model_module": "@jupyter-widgets/controls",
            "children": [
              "IPY_MODEL_fb2e125b6d3f45cc9498b6e0eea89c2f",
              "IPY_MODEL_f4289ec88e834017b50c236c5af87f8b"
            ]
          }
        },
        "3c28819930ed4a65a69a809db6c216ef": {
          "model_module": "@jupyter-widgets/base",
          "model_name": "LayoutModel",
          "state": {
            "_view_name": "LayoutView",
            "grid_template_rows": null,
            "right": null,
            "justify_content": null,
            "_view_module": "@jupyter-widgets/base",
            "overflow": null,
            "_model_module_version": "1.2.0",
            "_view_count": null,
            "flex_flow": null,
            "width": null,
            "min_width": null,
            "border": null,
            "align_items": null,
            "bottom": null,
            "_model_module": "@jupyter-widgets/base",
            "top": null,
            "grid_column": null,
            "overflow_y": null,
            "overflow_x": null,
            "grid_auto_flow": null,
            "grid_area": null,
            "grid_template_columns": null,
            "flex": null,
            "_model_name": "LayoutModel",
            "justify_items": null,
            "grid_row": null,
            "max_height": null,
            "align_content": null,
            "visibility": null,
            "align_self": null,
            "height": null,
            "min_height": null,
            "padding": null,
            "grid_auto_rows": null,
            "grid_gap": null,
            "max_width": null,
            "order": null,
            "_view_module_version": "1.2.0",
            "grid_template_areas": null,
            "object_position": null,
            "object_fit": null,
            "grid_auto_columns": null,
            "margin": null,
            "display": null,
            "left": null
          }
        },
        "fb2e125b6d3f45cc9498b6e0eea89c2f": {
          "model_module": "@jupyter-widgets/controls",
          "model_name": "IntProgressModel",
          "state": {
            "_view_name": "ProgressView",
            "style": "IPY_MODEL_e47953396a9548318cf93b0b77421129",
            "_dom_classes": [],
            "description": "",
            "_model_name": "IntProgressModel",
            "bar_style": "success",
            "max": 1,
            "_view_module": "@jupyter-widgets/controls",
            "_model_module_version": "1.5.0",
            "value": 1,
            "_view_count": null,
            "_view_module_version": "1.5.0",
            "orientation": "horizontal",
            "min": 0,
            "description_tooltip": null,
            "_model_module": "@jupyter-widgets/controls",
            "layout": "IPY_MODEL_488f143866184a5a860e7c134a27dfde"
          }
        },
        "f4289ec88e834017b50c236c5af87f8b": {
          "model_module": "@jupyter-widgets/controls",
          "model_name": "HTMLModel",
          "state": {
            "_view_name": "HTMLView",
            "style": "IPY_MODEL_3a6b8bf777a14b24a8d529c2651329ab",
            "_dom_classes": [],
            "description": "",
            "_model_name": "HTMLModel",
            "placeholder": "​",
            "_view_module": "@jupyter-widgets/controls",
            "_model_module_version": "1.5.0",
            "value": " 1654784/? [00:00&lt;00:00, 3258039.71it/s]",
            "_view_count": null,
            "_view_module_version": "1.5.0",
            "description_tooltip": null,
            "_model_module": "@jupyter-widgets/controls",
            "layout": "IPY_MODEL_a643afacddba49368ca1376903017262"
          }
        },
        "e47953396a9548318cf93b0b77421129": {
          "model_module": "@jupyter-widgets/controls",
          "model_name": "ProgressStyleModel",
          "state": {
            "_view_name": "StyleView",
            "_model_name": "ProgressStyleModel",
            "description_width": "initial",
            "_view_module": "@jupyter-widgets/base",
            "_model_module_version": "1.5.0",
            "_view_count": null,
            "_view_module_version": "1.2.0",
            "bar_color": null,
            "_model_module": "@jupyter-widgets/controls"
          }
        },
        "488f143866184a5a860e7c134a27dfde": {
          "model_module": "@jupyter-widgets/base",
          "model_name": "LayoutModel",
          "state": {
            "_view_name": "LayoutView",
            "grid_template_rows": null,
            "right": null,
            "justify_content": null,
            "_view_module": "@jupyter-widgets/base",
            "overflow": null,
            "_model_module_version": "1.2.0",
            "_view_count": null,
            "flex_flow": null,
            "width": null,
            "min_width": null,
            "border": null,
            "align_items": null,
            "bottom": null,
            "_model_module": "@jupyter-widgets/base",
            "top": null,
            "grid_column": null,
            "overflow_y": null,
            "overflow_x": null,
            "grid_auto_flow": null,
            "grid_area": null,
            "grid_template_columns": null,
            "flex": null,
            "_model_name": "LayoutModel",
            "justify_items": null,
            "grid_row": null,
            "max_height": null,
            "align_content": null,
            "visibility": null,
            "align_self": null,
            "height": null,
            "min_height": null,
            "padding": null,
            "grid_auto_rows": null,
            "grid_gap": null,
            "max_width": null,
            "order": null,
            "_view_module_version": "1.2.0",
            "grid_template_areas": null,
            "object_position": null,
            "object_fit": null,
            "grid_auto_columns": null,
            "margin": null,
            "display": null,
            "left": null
          }
        },
        "3a6b8bf777a14b24a8d529c2651329ab": {
          "model_module": "@jupyter-widgets/controls",
          "model_name": "DescriptionStyleModel",
          "state": {
            "_view_name": "StyleView",
            "_model_name": "DescriptionStyleModel",
            "description_width": "",
            "_view_module": "@jupyter-widgets/base",
            "_model_module_version": "1.5.0",
            "_view_count": null,
            "_view_module_version": "1.2.0",
            "_model_module": "@jupyter-widgets/controls"
          }
        },
        "a643afacddba49368ca1376903017262": {
          "model_module": "@jupyter-widgets/base",
          "model_name": "LayoutModel",
          "state": {
            "_view_name": "LayoutView",
            "grid_template_rows": null,
            "right": null,
            "justify_content": null,
            "_view_module": "@jupyter-widgets/base",
            "overflow": null,
            "_model_module_version": "1.2.0",
            "_view_count": null,
            "flex_flow": null,
            "width": null,
            "min_width": null,
            "border": null,
            "align_items": null,
            "bottom": null,
            "_model_module": "@jupyter-widgets/base",
            "top": null,
            "grid_column": null,
            "overflow_y": null,
            "overflow_x": null,
            "grid_auto_flow": null,
            "grid_area": null,
            "grid_template_columns": null,
            "flex": null,
            "_model_name": "LayoutModel",
            "justify_items": null,
            "grid_row": null,
            "max_height": null,
            "align_content": null,
            "visibility": null,
            "align_self": null,
            "height": null,
            "min_height": null,
            "padding": null,
            "grid_auto_rows": null,
            "grid_gap": null,
            "max_width": null,
            "order": null,
            "_view_module_version": "1.2.0",
            "grid_template_areas": null,
            "object_position": null,
            "object_fit": null,
            "grid_auto_columns": null,
            "margin": null,
            "display": null,
            "left": null
          }
        },
        "9c1a60657a67406e956890f710b511c7": {
          "model_module": "@jupyter-widgets/controls",
          "model_name": "HBoxModel",
          "state": {
            "_view_name": "HBoxView",
            "_dom_classes": [],
            "_model_name": "HBoxModel",
            "_view_module": "@jupyter-widgets/controls",
            "_model_module_version": "1.5.0",
            "_view_count": null,
            "_view_module_version": "1.5.0",
            "box_style": "",
            "layout": "IPY_MODEL_5f565bf11d734235a6fe195449d58fd5",
            "_model_module": "@jupyter-widgets/controls",
            "children": [
              "IPY_MODEL_40deb9bf1e094e85b3ce9028569da0ad",
              "IPY_MODEL_110cddc4387d469dbbc49df8c8b6fa67"
            ]
          }
        },
        "5f565bf11d734235a6fe195449d58fd5": {
          "model_module": "@jupyter-widgets/base",
          "model_name": "LayoutModel",
          "state": {
            "_view_name": "LayoutView",
            "grid_template_rows": null,
            "right": null,
            "justify_content": null,
            "_view_module": "@jupyter-widgets/base",
            "overflow": null,
            "_model_module_version": "1.2.0",
            "_view_count": null,
            "flex_flow": null,
            "width": null,
            "min_width": null,
            "border": null,
            "align_items": null,
            "bottom": null,
            "_model_module": "@jupyter-widgets/base",
            "top": null,
            "grid_column": null,
            "overflow_y": null,
            "overflow_x": null,
            "grid_auto_flow": null,
            "grid_area": null,
            "grid_template_columns": null,
            "flex": null,
            "_model_name": "LayoutModel",
            "justify_items": null,
            "grid_row": null,
            "max_height": null,
            "align_content": null,
            "visibility": null,
            "align_self": null,
            "height": null,
            "min_height": null,
            "padding": null,
            "grid_auto_rows": null,
            "grid_gap": null,
            "max_width": null,
            "order": null,
            "_view_module_version": "1.2.0",
            "grid_template_areas": null,
            "object_position": null,
            "object_fit": null,
            "grid_auto_columns": null,
            "margin": null,
            "display": null,
            "left": null
          }
        },
        "40deb9bf1e094e85b3ce9028569da0ad": {
          "model_module": "@jupyter-widgets/controls",
          "model_name": "IntProgressModel",
          "state": {
            "_view_name": "ProgressView",
            "style": "IPY_MODEL_e298fa1713964b18ab4747c925b295ac",
            "_dom_classes": [],
            "description": "  0%",
            "_model_name": "IntProgressModel",
            "bar_style": "info",
            "max": 1,
            "_view_module": "@jupyter-widgets/controls",
            "_model_module_version": "1.5.0",
            "value": 0,
            "_view_count": null,
            "_view_module_version": "1.5.0",
            "orientation": "horizontal",
            "min": 0,
            "description_tooltip": null,
            "_model_module": "@jupyter-widgets/controls",
            "layout": "IPY_MODEL_6a96910c7432438ab140ff28ac3281a0"
          }
        },
        "110cddc4387d469dbbc49df8c8b6fa67": {
          "model_module": "@jupyter-widgets/controls",
          "model_name": "HTMLModel",
          "state": {
            "_view_name": "HTMLView",
            "style": "IPY_MODEL_af36e393ca324e61be0a5bd597fac8ae",
            "_dom_classes": [],
            "description": "",
            "_model_name": "HTMLModel",
            "placeholder": "​",
            "_view_module": "@jupyter-widgets/controls",
            "_model_module_version": "1.5.0",
            "value": " 0/4542 [00:00&lt;?, ?it/s]",
            "_view_count": null,
            "_view_module_version": "1.5.0",
            "description_tooltip": null,
            "_model_module": "@jupyter-widgets/controls",
            "layout": "IPY_MODEL_2e7b2d1ae70f41d48bb929051bd6a1d3"
          }
        },
        "e298fa1713964b18ab4747c925b295ac": {
          "model_module": "@jupyter-widgets/controls",
          "model_name": "ProgressStyleModel",
          "state": {
            "_view_name": "StyleView",
            "_model_name": "ProgressStyleModel",
            "description_width": "initial",
            "_view_module": "@jupyter-widgets/base",
            "_model_module_version": "1.5.0",
            "_view_count": null,
            "_view_module_version": "1.2.0",
            "bar_color": null,
            "_model_module": "@jupyter-widgets/controls"
          }
        },
        "6a96910c7432438ab140ff28ac3281a0": {
          "model_module": "@jupyter-widgets/base",
          "model_name": "LayoutModel",
          "state": {
            "_view_name": "LayoutView",
            "grid_template_rows": null,
            "right": null,
            "justify_content": null,
            "_view_module": "@jupyter-widgets/base",
            "overflow": null,
            "_model_module_version": "1.2.0",
            "_view_count": null,
            "flex_flow": null,
            "width": null,
            "min_width": null,
            "border": null,
            "align_items": null,
            "bottom": null,
            "_model_module": "@jupyter-widgets/base",
            "top": null,
            "grid_column": null,
            "overflow_y": null,
            "overflow_x": null,
            "grid_auto_flow": null,
            "grid_area": null,
            "grid_template_columns": null,
            "flex": null,
            "_model_name": "LayoutModel",
            "justify_items": null,
            "grid_row": null,
            "max_height": null,
            "align_content": null,
            "visibility": null,
            "align_self": null,
            "height": null,
            "min_height": null,
            "padding": null,
            "grid_auto_rows": null,
            "grid_gap": null,
            "max_width": null,
            "order": null,
            "_view_module_version": "1.2.0",
            "grid_template_areas": null,
            "object_position": null,
            "object_fit": null,
            "grid_auto_columns": null,
            "margin": null,
            "display": null,
            "left": null
          }
        },
        "af36e393ca324e61be0a5bd597fac8ae": {
          "model_module": "@jupyter-widgets/controls",
          "model_name": "DescriptionStyleModel",
          "state": {
            "_view_name": "StyleView",
            "_model_name": "DescriptionStyleModel",
            "description_width": "",
            "_view_module": "@jupyter-widgets/base",
            "_model_module_version": "1.5.0",
            "_view_count": null,
            "_view_module_version": "1.2.0",
            "_model_module": "@jupyter-widgets/controls"
          }
        },
        "2e7b2d1ae70f41d48bb929051bd6a1d3": {
          "model_module": "@jupyter-widgets/base",
          "model_name": "LayoutModel",
          "state": {
            "_view_name": "LayoutView",
            "grid_template_rows": null,
            "right": null,
            "justify_content": null,
            "_view_module": "@jupyter-widgets/base",
            "overflow": null,
            "_model_module_version": "1.2.0",
            "_view_count": null,
            "flex_flow": null,
            "width": null,
            "min_width": null,
            "border": null,
            "align_items": null,
            "bottom": null,
            "_model_module": "@jupyter-widgets/base",
            "top": null,
            "grid_column": null,
            "overflow_y": null,
            "overflow_x": null,
            "grid_auto_flow": null,
            "grid_area": null,
            "grid_template_columns": null,
            "flex": null,
            "_model_name": "LayoutModel",
            "justify_items": null,
            "grid_row": null,
            "max_height": null,
            "align_content": null,
            "visibility": null,
            "align_self": null,
            "height": null,
            "min_height": null,
            "padding": null,
            "grid_auto_rows": null,
            "grid_gap": null,
            "max_width": null,
            "order": null,
            "_view_module_version": "1.2.0",
            "grid_template_areas": null,
            "object_position": null,
            "object_fit": null,
            "grid_auto_columns": null,
            "margin": null,
            "display": null,
            "left": null
          }
        }
      }
    }
  },
  "cells": [
    {
      "cell_type": "markdown",
      "metadata": {
        "id": "view-in-github",
        "colab_type": "text"
      },
      "source": [
        "<a href=\"https://colab.research.google.com/github/omnihola/Deep-learning-Papers/blob/master/Basic_CNN.ipynb\" target=\"_parent\"><img src=\"https://colab.research.google.com/assets/colab-badge.svg\" alt=\"Open In Colab\"/></a>"
      ]
    },
    {
      "cell_type": "markdown",
      "metadata": {
        "id": "VuWSwcFORXku",
        "colab_type": "text"
      },
      "source": [
        "**基本CNN神经网络**  \n",
        "Basic CNN"
      ]
    },
    {
      "cell_type": "markdown",
      "metadata": {
        "id": "1CU0JvssRv9g",
        "colab_type": "text"
      },
      "source": [
        "**Imports**"
      ]
    },
    {
      "cell_type": "code",
      "metadata": {
        "id": "5ajF4MZaRPQQ",
        "colab_type": "code",
        "colab": {}
      },
      "source": [
        "import time\n",
        "import numpy as np\n",
        "import torch\n",
        "import torch.nn.functional as F\n",
        "from torchvision import datasets\n",
        "from torchvision import transforms\n",
        "from torch.utils.data import DataLoader\n",
        "import torch.nn as nn\n",
        "\n",
        "if torch.cuda.is_available():\n",
        "    torch.backends.cudnn.deterministic = True\n"
      ],
      "execution_count": 0,
      "outputs": []
    },
    {
      "cell_type": "markdown",
      "metadata": {
        "id": "dDmHDLvkR8lK",
        "colab_type": "text"
      },
      "source": [
        "**Settings and Dataset**"
      ]
    },
    {
      "cell_type": "code",
      "metadata": {
        "id": "aK8m7l7bR2Hn",
        "colab_type": "code",
        "colab": {
          "base_uri": "https://localhost:8080/",
          "height": 399,
          "referenced_widgets": [
            "e3ae4dc3230d4623b662e4a96506e4c2",
            "3f5046add699486abf32c7fa9c8965d1",
            "22923aab1340485cbe49365c10a9182f",
            "6a49a355c5954f968aea045fcb047ef0",
            "b217490983a8490289e032dff268ec59",
            "8210c5b4c698452f91d8d7d92ebc8cf8",
            "78c7e5c24af74bf0a818e2481dab05c8",
            "cd43ef64e8f84ce2a5020ebc2f0e4652",
            "ea92b5d02e504e8ab8ba8c2a866e10f1",
            "90cef04d6c1f4964aa1eb4f3d3dae197",
            "4ddeff3093c24f1182a44af92a8f9fb3",
            "d02ae8e1df8043cfb5b76040f74b4f4e",
            "1b03ad5864d84b95aacb3b72d79d0902",
            "05389f66c11a498eb4c38c2a769b7d1f",
            "992a17657d534dc48ebb7efab833206c",
            "04051a777e354bd7a2094fab510f5fac",
            "c041a173b297472dbdef718833db9f2d",
            "3c28819930ed4a65a69a809db6c216ef",
            "fb2e125b6d3f45cc9498b6e0eea89c2f",
            "f4289ec88e834017b50c236c5af87f8b",
            "e47953396a9548318cf93b0b77421129",
            "488f143866184a5a860e7c134a27dfde",
            "3a6b8bf777a14b24a8d529c2651329ab",
            "a643afacddba49368ca1376903017262",
            "9c1a60657a67406e956890f710b511c7",
            "5f565bf11d734235a6fe195449d58fd5",
            "40deb9bf1e094e85b3ce9028569da0ad",
            "110cddc4387d469dbbc49df8c8b6fa67",
            "e298fa1713964b18ab4747c925b295ac",
            "6a96910c7432438ab140ff28ac3281a0",
            "af36e393ca324e61be0a5bd597fac8ae",
            "2e7b2d1ae70f41d48bb929051bd6a1d3"
          ]
        },
        "outputId": "f0d963e0-e1b9-47ba-90b4-76cea74a6567"
      },
      "source": [
        "#创建GPU设备\n",
        "device = torch.device(\"cuda\" if torch.cuda.is_available() else \"cpu\")\n",
        "\n",
        "#超参\n",
        "RANDOM_SEED = 1314\n",
        "LR_RATE = 0.001\n",
        "NUM_EPOCHS = 10\n",
        "BATCH_SIZE = 128\n",
        "\n",
        "#传入参数\n",
        "NUM_CLASSES = 10\n",
        "\n",
        "\n",
        "#MNIST数据下载和预处理（transforms）\n",
        "train_dataset = datasets.MNIST('mnistdata',\n",
        "                               train=True,\n",
        "                               transform=transforms.Compose([transforms.ToTensor()]),\n",
        "                               download=True)\n",
        "\n",
        "test_dataset = datasets.MNIST('mnistdata',\n",
        "                               train=False,\n",
        "                               transform=transforms.Compose([transforms.ToTensor()]),\n",
        "                               download=True)\n",
        "\n",
        "#加载数据\n",
        "train_loader = DataLoader(train_dataset,\n",
        "                          batch_size=BATCH_SIZE,\n",
        "                          shuffle=True)\n",
        "\n",
        "test_loader = DataLoader(test_dataset,\n",
        "                         batch_size=BATCH_SIZE,\n",
        "                         shuffle=False)\n",
        "\n",
        "#验证\n",
        "for images,indexs in train_loader:\n",
        "  print('Image batch dimensions:', images.shape)\n",
        "  print('Image index dimensions:', indexs.shape)\n",
        "  break\n"
      ],
      "execution_count": 4,
      "outputs": [
        {
          "output_type": "stream",
          "text": [
            "Downloading http://yann.lecun.com/exdb/mnist/train-images-idx3-ubyte.gz to mnistdata/MNIST/raw/train-images-idx3-ubyte.gz\n"
          ],
          "name": "stdout"
        },
        {
          "output_type": "display_data",
          "data": {
            "application/vnd.jupyter.widget-view+json": {
              "model_id": "e3ae4dc3230d4623b662e4a96506e4c2",
              "version_minor": 0,
              "version_major": 2
            },
            "text/plain": [
              "HBox(children=(IntProgress(value=1, bar_style='info', max=1), HTML(value='')))"
            ]
          },
          "metadata": {
            "tags": []
          }
        },
        {
          "output_type": "stream",
          "text": [
            "Extracting mnistdata/MNIST/raw/train-images-idx3-ubyte.gz to mnistdata/MNIST/raw\n",
            "Downloading http://yann.lecun.com/exdb/mnist/train-labels-idx1-ubyte.gz to mnistdata/MNIST/raw/train-labels-idx1-ubyte.gz\n"
          ],
          "name": "stdout"
        },
        {
          "output_type": "display_data",
          "data": {
            "application/vnd.jupyter.widget-view+json": {
              "model_id": "ea92b5d02e504e8ab8ba8c2a866e10f1",
              "version_minor": 0,
              "version_major": 2
            },
            "text/plain": [
              "HBox(children=(IntProgress(value=1, bar_style='info', max=1), HTML(value='')))"
            ]
          },
          "metadata": {
            "tags": []
          }
        },
        {
          "output_type": "stream",
          "text": [
            "Extracting mnistdata/MNIST/raw/train-labels-idx1-ubyte.gz to mnistdata/MNIST/raw\n",
            "Downloading http://yann.lecun.com/exdb/mnist/t10k-images-idx3-ubyte.gz to mnistdata/MNIST/raw/t10k-images-idx3-ubyte.gz\n"
          ],
          "name": "stdout"
        },
        {
          "output_type": "display_data",
          "data": {
            "application/vnd.jupyter.widget-view+json": {
              "model_id": "c041a173b297472dbdef718833db9f2d",
              "version_minor": 0,
              "version_major": 2
            },
            "text/plain": [
              "HBox(children=(IntProgress(value=1, bar_style='info', max=1), HTML(value='')))"
            ]
          },
          "metadata": {
            "tags": []
          }
        },
        {
          "output_type": "stream",
          "text": [
            "Extracting mnistdata/MNIST/raw/t10k-images-idx3-ubyte.gz to mnistdata/MNIST/raw\n",
            "Downloading http://yann.lecun.com/exdb/mnist/t10k-labels-idx1-ubyte.gz to mnistdata/MNIST/raw/t10k-labels-idx1-ubyte.gz\n"
          ],
          "name": "stdout"
        },
        {
          "output_type": "display_data",
          "data": {
            "application/vnd.jupyter.widget-view+json": {
              "model_id": "9c1a60657a67406e956890f710b511c7",
              "version_minor": 0,
              "version_major": 2
            },
            "text/plain": [
              "HBox(children=(IntProgress(value=1, bar_style='info', max=1), HTML(value='')))"
            ]
          },
          "metadata": {
            "tags": []
          }
        },
        {
          "output_type": "stream",
          "text": [
            "\n",
            "\n",
            "Extracting mnistdata/MNIST/raw/t10k-labels-idx1-ubyte.gz to mnistdata/MNIST/raw\n",
            "Processing...\n",
            "Done!\n",
            "Image batch dimensions: torch.Size([128, 1, 28, 28])\n",
            "Image index dimensions: torch.Size([128])\n"
          ],
          "name": "stdout"
        }
      ]
    },
    {
      "cell_type": "code",
      "metadata": {
        "id": "8jTQ0BhpFKAj",
        "colab_type": "code",
        "colab": {
          "base_uri": "https://localhost:8080/",
          "height": 54
        },
        "outputId": "531a3302-e9f6-4e14-8b19-ed42f24ed599"
      },
      "source": [
        "for batch_id,(images,labels) in enumerate(train_loader):\n",
        "  print(images.shape)\n",
        "  print(labels.shape)\n",
        "  break"
      ],
      "execution_count": 59,
      "outputs": [
        {
          "output_type": "stream",
          "text": [
            "torch.Size([128, 1, 28, 28])\n",
            "torch.Size([128])\n"
          ],
          "name": "stdout"
        }
      ]
    },
    {
      "cell_type": "markdown",
      "metadata": {
        "id": "5w6E8hNzWQ3-",
        "colab_type": "text"
      },
      "source": [
        "**构建模型**  \n",
        "**Model**"
      ]
    },
    {
      "cell_type": "code",
      "metadata": {
        "id": "YX5-mk8zVIEO",
        "colab_type": "code",
        "colab": {}
      },
      "source": [
        "#简历模型类\n",
        "\n",
        "class CNN(nn.Module):\n",
        "\n",
        "  def __init__(self,num_classes):\n",
        "    super(CNN,self).__init__()\n",
        "\n",
        "    self.cnn = nn.Sequential(\n",
        "        nn.Conv2d(1,8,kernel_size=(3,3),stride=1,padding=1),\n",
        "        nn.ReLU(),\n",
        "        nn.MaxPool2d(kernel_size=(2,2),stride=(2,2),padding=0),\n",
        "        \n",
        "        nn.Conv2d(8,16,kernel_size=(3,3),stride=1,padding=1),\n",
        "        nn.ReLU(),\n",
        "        nn.MaxPool2d(kernel_size=(2,2),stride=(2,2),padding=0)\n",
        "    )\n",
        "    \n",
        "    self.li_1 = nn.Linear(7*7*16, num_classes)\n",
        "    # for m in self.modules():\n",
        "    #   if isinstance(m, torch.nn.Conv2d) or isinstance(m, torch.nn.Linear):\n",
        "    #     m.weight.data.normal_(0.0, 0.01)\n",
        "    #     m.bias.data.zero_()\n",
        "    #       if m.bias is not None:\n",
        "    #         m.bias.detach().zero_()\n",
        "\n",
        "  def forward(self,x):\n",
        "    outs = self.cnn(x)\n",
        "    \n",
        "    logits = self.li_1(outs.view(-1,7*7*16))\n",
        "    prob = F.softmax(logits,dim=1)\n",
        "\n",
        "    return logits,prob\n",
        "\n"
      ],
      "execution_count": 0,
      "outputs": []
    },
    {
      "cell_type": "code",
      "metadata": {
        "id": "xVf6f1PUeQ97",
        "colab_type": "code",
        "colab": {
          "base_uri": "https://localhost:8080/",
          "height": 217
        },
        "outputId": "2755b98c-b81d-4c98-a1d7-ff4b384e6681"
      },
      "source": [
        "torch.manual_seed(RANDOM_SEED)\n",
        "\n",
        "model = CNN(NUM_CLASSES)\n",
        "\n",
        "#移动到device\n",
        "model = model.to(device)\n",
        "\n",
        "#初始化参数\n",
        "def weight_init(m):\n",
        "    if isinstance(m, nn.Linear):\n",
        "        nn.init.xavier_normal_(m.weight)\n",
        "        nn.init.constant_(m.bias, 0)\n",
        "    # 也可以判断是否为conv2d，使用相应的初始化方式 \n",
        "    elif isinstance(m, nn.Conv2d):\n",
        "        nn.init.kaiming_normal_(m.weight, mode='fan_out', nonlinearity='relu')\n",
        "\n",
        "model.apply(weight_init)"
      ],
      "execution_count": 96,
      "outputs": [
        {
          "output_type": "execute_result",
          "data": {
            "text/plain": [
              "CNN(\n",
              "  (cnn): Sequential(\n",
              "    (0): Conv2d(1, 8, kernel_size=(3, 3), stride=(1, 1), padding=(1, 1))\n",
              "    (1): ReLU()\n",
              "    (2): MaxPool2d(kernel_size=(2, 2), stride=(2, 2), padding=0, dilation=1, ceil_mode=False)\n",
              "    (3): Conv2d(8, 16, kernel_size=(3, 3), stride=(1, 1), padding=(1, 1))\n",
              "    (4): ReLU()\n",
              "    (5): MaxPool2d(kernel_size=(2, 2), stride=(2, 2), padding=0, dilation=1, ceil_mode=False)\n",
              "  )\n",
              "  (li_1): Linear(in_features=784, out_features=10, bias=True)\n",
              ")"
            ]
          },
          "metadata": {
            "tags": []
          },
          "execution_count": 96
        }
      ]
    },
    {
      "cell_type": "code",
      "metadata": {
        "id": "dJwd-VPpetLR",
        "colab_type": "code",
        "colab": {}
      },
      "source": [
        "#优化器\n",
        "opitimzer = torch.optim.SGD(model.parameters(),lr=LR_RATE,momentum=0.9)"
      ],
      "execution_count": 0,
      "outputs": []
    },
    {
      "cell_type": "markdown",
      "metadata": {
        "id": "RbHzZOYBfF1z",
        "colab_type": "text"
      },
      "source": [
        "**训练模型**"
      ]
    },
    {
      "cell_type": "code",
      "metadata": {
        "id": "Iup57JbOfDZo",
        "colab_type": "code",
        "colab": {}
      },
      "source": [
        "#精度\n",
        "#batch里面的size(0)是第几个\n",
        "\n",
        "\n",
        "def model_accrancy(model,data_loader):\n",
        "  correct_prob,num_exmples = 0,0\n",
        "  for images,labels in data_loader:\n",
        "\n",
        "    #移动到device\n",
        "    images = images.to(device)\n",
        "    labels = labels.to(device)\n",
        "\n",
        "    logits,prob = model.forward(images)\n",
        "    _, predicted_label = torch.max(prob,1)\n",
        "    num_exmples += labels.size(0)\n",
        "    correct_prob += (predicted_label == labels).sum() #矩阵求和\n",
        "  \n",
        "  return correct_prob.float()/num_exmples * 100\n",
        "\n",
        "\n"
      ],
      "execution_count": 0,
      "outputs": []
    },
    {
      "cell_type": "code",
      "metadata": {
        "id": "_4M0Q3G7GOQI",
        "colab_type": "code",
        "colab": {
          "base_uri": "https://localhost:8080/",
          "height": 54
        },
        "outputId": "740a2ba7-61f9-4261-d68a-c4e0fca2c493"
      },
      "source": [
        "i = 0\n",
        "for batch_id,(images,labels) in enumerate(train_loader):\n",
        "  i += 1\n",
        "  # print(images.shape)\n",
        "  # print(labels.shape)\n",
        "  # print(len(train_loader))\n",
        "print(i\n",
        "      )\n",
        "train_loader.batch_size"
      ],
      "execution_count": 99,
      "outputs": [
        {
          "output_type": "stream",
          "text": [
            "469\n"
          ],
          "name": "stdout"
        },
        {
          "output_type": "execute_result",
          "data": {
            "text/plain": [
              "128"
            ]
          },
          "metadata": {
            "tags": []
          },
          "execution_count": 99
        }
      ]
    },
    {
      "cell_type": "code",
      "metadata": {
        "id": "ixBvmKkzIYgT",
        "colab_type": "code",
        "colab": {
          "base_uri": "https://localhost:8080/",
          "height": 163
        },
        "outputId": "1b36c1f8-8bf6-49be-f012-b86e0645f6ed"
      },
      "source": [
        "train_loader.dataset"
      ],
      "execution_count": 73,
      "outputs": [
        {
          "output_type": "execute_result",
          "data": {
            "text/plain": [
              "Dataset MNIST\n",
              "    Number of datapoints: 60000\n",
              "    Root location: mnistdata\n",
              "    Split: Train\n",
              "    StandardTransform\n",
              "Transform: Compose(\n",
              "               ToTensor()\n",
              "           )"
            ]
          },
          "metadata": {
            "tags": []
          },
          "execution_count": 73
        }
      ]
    },
    {
      "cell_type": "code",
      "metadata": {
        "id": "l95r06_8w1HJ",
        "colab_type": "code",
        "colab": {
          "base_uri": "https://localhost:8080/",
          "height": 1000
        },
        "outputId": "f65e128f-40ae-4c5e-9862-b6bd17bd7404"
      },
      "source": [
        "#训练模型\n",
        "\n",
        "start_time = time.time()\n",
        "loss_list = []\n",
        "accruancy = []\n",
        "accruancy_epoch = []\n",
        "\n",
        "\n",
        "for epoch in range(NUM_EPOCHS):\n",
        "  model = model.train()\n",
        "\n",
        "  for batch_id,(images,labels) in enumerate(train_loader):\n",
        "\n",
        "    images = images.to(device)\n",
        "    labels = labels.to(device)\n",
        "    \n",
        "    \n",
        "\n",
        "    #计算\n",
        "    logits, prob = model.forward(images)\n",
        "\n",
        "    _, predicted_label = torch.max(prob,1)\n",
        "\n",
        "    #计算损失函数\n",
        "    loss = F.cross_entropy(logits,labels)\n",
        "    \n",
        "    #清零\n",
        "    opitimzer.zero_grad()\n",
        "\n",
        "    #反向传播\n",
        "    loss.backward()\n",
        "\n",
        "    #更新梯度\n",
        "    opitimzer.step()\n",
        "\n",
        "    #损失函数\n",
        "    loss_list.append(loss)\n",
        "\n",
        "    #计算准确率\n",
        "    accruancy.append((predicted_label == labels).sum()/BATCH_SIZE)\n",
        "\n",
        "    if not batch_id % 100:                 # 50*batch\n",
        "      print ('Epoch: %03d/%03d | Batch %03d/%03d | Loss: %.4f' \n",
        "                   %(epoch+1, NUM_EPOCHS, batch_id, \n",
        "                     len(train_loader), loss))\n",
        "      # print(prob.shape)\n",
        "    \n",
        "    \n",
        "  model = model.eval()\n",
        "  print('Epoch: %03d/%03d training accuracy: %.2f%%' % (\n",
        "          epoch+1, NUM_EPOCHS, \n",
        "          model_accrancy(model, train_loader)))\n",
        "  print()\n",
        "    \n",
        "  print('Time elapsed: %.2f min' % ((time.time() - start_time)/60))\n",
        "\n",
        "print('Total Training Time: %.2f min' % ((time.time() - start_time)/60))\n",
        "\n",
        "\n",
        "\n",
        "\n"
      ],
      "execution_count": 75,
      "outputs": [
        {
          "output_type": "stream",
          "text": [
            "Epoch: 001/010 | Batch 000/469 | Loss: 0.0591\n",
            "torch.Size([128, 10])\n",
            "Epoch: 001/010 | Batch 100/469 | Loss: 0.1121\n",
            "torch.Size([128, 10])\n",
            "Epoch: 001/010 | Batch 200/469 | Loss: 0.0845\n",
            "torch.Size([128, 10])\n",
            "Epoch: 001/010 | Batch 300/469 | Loss: 0.1049\n",
            "torch.Size([128, 10])\n",
            "Epoch: 001/010 | Batch 400/469 | Loss: 0.0759\n",
            "torch.Size([128, 10])\n",
            "Epoch: 001/010 training accuracy: 97.69%\n",
            "Time elapsed: 0.25 min\n",
            "Epoch: 002/010 | Batch 000/469 | Loss: 0.1970\n",
            "torch.Size([128, 10])\n",
            "Epoch: 002/010 | Batch 100/469 | Loss: 0.1025\n",
            "torch.Size([128, 10])\n",
            "Epoch: 002/010 | Batch 200/469 | Loss: 0.0448\n",
            "torch.Size([128, 10])\n",
            "Epoch: 002/010 | Batch 300/469 | Loss: 0.0720\n",
            "torch.Size([128, 10])\n",
            "Epoch: 002/010 | Batch 400/469 | Loss: 0.0648\n",
            "torch.Size([128, 10])\n",
            "Epoch: 002/010 training accuracy: 97.57%\n",
            "Time elapsed: 0.50 min\n",
            "Epoch: 003/010 | Batch 000/469 | Loss: 0.0628\n",
            "torch.Size([128, 10])\n",
            "Epoch: 003/010 | Batch 100/469 | Loss: 0.0616\n",
            "torch.Size([128, 10])\n",
            "Epoch: 003/010 | Batch 200/469 | Loss: 0.0823\n",
            "torch.Size([128, 10])\n",
            "Epoch: 003/010 | Batch 300/469 | Loss: 0.0708\n",
            "torch.Size([128, 10])\n",
            "Epoch: 003/010 | Batch 400/469 | Loss: 0.0954\n",
            "torch.Size([128, 10])\n",
            "Epoch: 003/010 training accuracy: 97.77%\n",
            "Time elapsed: 0.75 min\n",
            "Epoch: 004/010 | Batch 000/469 | Loss: 0.0841\n",
            "torch.Size([128, 10])\n",
            "Epoch: 004/010 | Batch 100/469 | Loss: 0.1343\n",
            "torch.Size([128, 10])\n",
            "Epoch: 004/010 | Batch 200/469 | Loss: 0.0674\n",
            "torch.Size([128, 10])\n",
            "Epoch: 004/010 | Batch 300/469 | Loss: 0.1005\n",
            "torch.Size([128, 10])\n",
            "Epoch: 004/010 | Batch 400/469 | Loss: 0.0426\n",
            "torch.Size([128, 10])\n",
            "Epoch: 004/010 training accuracy: 97.75%\n",
            "Time elapsed: 1.01 min\n",
            "Epoch: 005/010 | Batch 000/469 | Loss: 0.0486\n",
            "torch.Size([128, 10])\n",
            "Epoch: 005/010 | Batch 100/469 | Loss: 0.0483\n",
            "torch.Size([128, 10])\n",
            "Epoch: 005/010 | Batch 200/469 | Loss: 0.0733\n",
            "torch.Size([128, 10])\n",
            "Epoch: 005/010 | Batch 300/469 | Loss: 0.0887\n",
            "torch.Size([128, 10])\n",
            "Epoch: 005/010 | Batch 400/469 | Loss: 0.0828\n",
            "torch.Size([128, 10])\n",
            "Epoch: 005/010 training accuracy: 97.61%\n",
            "Time elapsed: 1.25 min\n",
            "Epoch: 006/010 | Batch 000/469 | Loss: 0.0610\n",
            "torch.Size([128, 10])\n",
            "Epoch: 006/010 | Batch 100/469 | Loss: 0.0595\n",
            "torch.Size([128, 10])\n",
            "Epoch: 006/010 | Batch 200/469 | Loss: 0.0417\n",
            "torch.Size([128, 10])\n",
            "Epoch: 006/010 | Batch 300/469 | Loss: 0.0715\n",
            "torch.Size([128, 10])\n",
            "Epoch: 006/010 | Batch 400/469 | Loss: 0.0526\n",
            "torch.Size([128, 10])\n",
            "Epoch: 006/010 training accuracy: 97.75%\n",
            "Time elapsed: 1.51 min\n",
            "Epoch: 007/010 | Batch 000/469 | Loss: 0.0737\n",
            "torch.Size([128, 10])\n",
            "Epoch: 007/010 | Batch 100/469 | Loss: 0.0575\n",
            "torch.Size([128, 10])\n",
            "Epoch: 007/010 | Batch 200/469 | Loss: 0.0933\n",
            "torch.Size([128, 10])\n",
            "Epoch: 007/010 | Batch 300/469 | Loss: 0.1045\n",
            "torch.Size([128, 10])\n",
            "Epoch: 007/010 | Batch 400/469 | Loss: 0.0921\n",
            "torch.Size([128, 10])\n",
            "Epoch: 007/010 training accuracy: 97.88%\n",
            "Time elapsed: 1.76 min\n",
            "Epoch: 008/010 | Batch 000/469 | Loss: 0.0356\n",
            "torch.Size([128, 10])\n",
            "Epoch: 008/010 | Batch 100/469 | Loss: 0.0402\n",
            "torch.Size([128, 10])\n",
            "Epoch: 008/010 | Batch 200/469 | Loss: 0.0481\n",
            "torch.Size([128, 10])\n",
            "Epoch: 008/010 | Batch 300/469 | Loss: 0.0479\n",
            "torch.Size([128, 10])\n",
            "Epoch: 008/010 | Batch 400/469 | Loss: 0.0433\n",
            "torch.Size([128, 10])\n",
            "Epoch: 008/010 training accuracy: 97.85%\n",
            "Time elapsed: 2.01 min\n",
            "Epoch: 009/010 | Batch 000/469 | Loss: 0.0488\n",
            "torch.Size([128, 10])\n",
            "Epoch: 009/010 | Batch 100/469 | Loss: 0.0528\n",
            "torch.Size([128, 10])\n",
            "Epoch: 009/010 | Batch 200/469 | Loss: 0.0589\n",
            "torch.Size([128, 10])\n",
            "Epoch: 009/010 | Batch 300/469 | Loss: 0.0910\n",
            "torch.Size([128, 10])\n",
            "Epoch: 009/010 | Batch 400/469 | Loss: 0.0662\n",
            "torch.Size([128, 10])\n",
            "Epoch: 009/010 training accuracy: 98.02%\n",
            "Time elapsed: 2.26 min\n",
            "Epoch: 010/010 | Batch 000/469 | Loss: 0.0609\n",
            "torch.Size([128, 10])\n",
            "Epoch: 010/010 | Batch 100/469 | Loss: 0.0595\n",
            "torch.Size([128, 10])\n",
            "Epoch: 010/010 | Batch 200/469 | Loss: 0.0572\n",
            "torch.Size([128, 10])\n",
            "Epoch: 010/010 | Batch 300/469 | Loss: 0.1191\n",
            "torch.Size([128, 10])\n",
            "Epoch: 010/010 | Batch 400/469 | Loss: 0.0367\n",
            "torch.Size([128, 10])\n",
            "Epoch: 010/010 training accuracy: 97.95%\n",
            "Time elapsed: 2.51 min\n",
            "Total Training Time: 2.51 min\n"
          ],
          "name": "stdout"
        }
      ]
    },
    {
      "cell_type": "code",
      "metadata": {
        "id": "MxO5b8vm32Mu",
        "colab_type": "code",
        "colab": {
          "base_uri": "https://localhost:8080/",
          "height": 35
        },
        "outputId": "3f3b84c9-6b96-499f-9d47-55438d64c2f1"
      },
      "source": [
        "with torch.set_grad_enabled(False): # save memory during inference\n",
        "    print('Test accuracy: %.2f%%' % (model_accrancy(model, test_loader)))"
      ],
      "execution_count": 42,
      "outputs": [
        {
          "output_type": "stream",
          "text": [
            "Test accuracy: 96.15%\n"
          ],
          "name": "stdout"
        }
      ]
    },
    {
      "cell_type": "markdown",
      "metadata": {
        "id": "F0cHlLVW_fN-",
        "colab_type": "text"
      },
      "source": [
        "**可视化**\n",
        "===="
      ]
    },
    {
      "cell_type": "code",
      "metadata": {
        "id": "7CVx5wWZ-zCj",
        "colab_type": "code",
        "colab": {}
      },
      "source": [
        "%matplotlib inline\n",
        "import matplotlib.pyplot as plt"
      ],
      "execution_count": 0,
      "outputs": []
    },
    {
      "cell_type": "code",
      "metadata": {
        "id": "4VWLC3So_nrL",
        "colab_type": "code",
        "colab": {
          "base_uri": "https://localhost:8080/",
          "height": 279
        },
        "outputId": "f1d5db66-c73b-4d93-922d-bb18e7b23158"
      },
      "source": [
        "ax1 = plt.subplot(1, 1, 1)\n",
        "ax1.plot(range(len(loss_list[0::100])), loss_list[0::100], label='Loss')\n",
        "ax1.set_xlabel('Iterations')\n",
        "ax1.set_ylabel('Loss')\n",
        "ax1.legend()\n",
        "\n",
        "# ax2 = plt.subplot(2,2,2)\n",
        "# ax2.plot(range(len(accruancy)), accruancy, label='Accruancy')\n",
        "# ax2.set_xlabel('Iterations')\n",
        "# ax2.set_ylabel('Loss')\n",
        "# ax2.legend()\n",
        "plt.show()"
      ],
      "execution_count": 93,
      "outputs": [
        {
          "output_type": "display_data",
          "data": {
            "image/png": "[encoded data removed]",
            "text/plain": [
              "<Figure size 432x288 with 1 Axes>"
            ]
          },
          "metadata": {
            "tags": []
          }
        }
      ]
    },
    {
      "cell_type": "code",
      "metadata": {
        "id": "zWRTrjCpCM-v",
        "colab_type": "code",
        "colab": {
          "base_uri": "https://localhost:8080/",
          "height": 35
        },
        "outputId": "f23dc22e-d68b-40c9-e9c8-8c5ba5a77bd7"
      },
      "source": [
        "a = list(range(10))\n",
        "a[3:9:3]"
      ],
      "execution_count": 92,
      "outputs": [
        {
          "output_type": "execute_result",
          "data": {
            "text/plain": [
              "[3, 6]"
            ]
          },
          "metadata": {
            "tags": []
          },
          "execution_count": 92
        }
      ]
    },
    {
      "cell_type": "code",
      "metadata": {
        "id": "OxjpvLEBOWMJ",
        "colab_type": "code",
        "colab": {}
      },
      "source": [
        ""
      ],
      "execution_count": 0,
      "outputs": []
    }
  ]
}